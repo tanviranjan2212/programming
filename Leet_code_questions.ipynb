{
 "cells": [
  {
   "cell_type": "markdown",
   "metadata": {},
   "source": [
    "### A collection of all leetcode questions with very short hints"
   ]
  },
  {
   "cell_type": "markdown",
   "metadata": {},
   "source": [
    "* Minimum Domino Rotations for Equal Row: [link](https://leetcode.com/problems/minimum-domino-rotations-for-equal-row/)\n",
    "**Hint**: For rotations to be possible, the most common element of each row should occur in the other row wherever it does not occur in the current row\n",
    "\n",
    "* Maximum Points you can obtain from cards [link](https://leetcode.com/problems/maximum-points-you-can-obtain-from-cards/)\n",
    "**Hint**: The order does not matter. See if any combination of leftmost and right most arrays gives you a higher sum than just k elements from one end\n",
    "\n",
    "* Validate whether a stack is a valid push and pop [link](https://leetcode.com/problems/validate-stack-sequences/submissions/)\n",
    "**Hint**: For each $pop_{rev}$, check if the element is the first to be pushed. If not, put it in a stack and check if it is the next one. Finally, check if the stack is empty\n",
    "\n",
    "* Schedule given tasks in such a way that there is a minimum specified idle time between two repeated tasks [link](https://leetcode.com/problems/task-scheduler/)\n",
    "**Hint**: Choose a greedy approach where you sort the tasks by their frequency and choose them in the order of their frequency. For each repeat the idle time required is decreased"
   ]
  },
  {
   "cell_type": "code",
   "execution_count": null,
   "metadata": {},
   "outputs": [],
   "source": []
  }
 ],
 "metadata": {
  "kernelspec": {
   "display_name": "Python 3",
   "language": "python",
   "name": "python3"
  },
  "language_info": {
   "codemirror_mode": {
    "name": "ipython",
    "version": 3
   },
   "file_extension": ".py",
   "mimetype": "text/x-python",
   "name": "python",
   "nbconvert_exporter": "python",
   "pygments_lexer": "ipython3",
   "version": "3.7.3"
  }
 },
 "nbformat": 4,
 "nbformat_minor": 2
}
