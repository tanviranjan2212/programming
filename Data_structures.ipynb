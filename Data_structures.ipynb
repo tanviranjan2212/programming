{
 "cells": [
  {
   "cell_type": "markdown",
   "metadata": {},
   "source": [
    "### Data Structures frequently asked in the coding round:\n",
    "\n",
    "* Arrays\n",
    "* Hash maps/Dictionary\n",
    "* Heaps\n",
    "* Sets\n",
    "* Stacks/Queue\n",
    "* Strings\n",
    "* Tree"
   ]
  },
  {
   "cell_type": "markdown",
   "metadata": {},
   "source": [
    "#### Heaps\n",
    "\n",
    "A [long list of all heap problems on LeetCode](https://leetcode.com/discuss/general-discussion/1127238/master-heap-by-solving-23-questions-in-4-patterns-category)\n",
    "\n",
    "##### Example problems\n",
    "* Find K-th largest number in an array\n",
    "    - Naive: Sort array and pick the k-th element from the right. $O(N log N)$\n",
    "    - Expert: Keep a running heap of the k largets elements. The moment the size of the heap exceeds k, pop. $O(N logk)$, since we push and pop in a k-sized heap $(O(logk))$ for N times"
   ]
  },
  {
   "cell_type": "code",
   "execution_count": 6,
   "metadata": {},
   "outputs": [
    {
     "name": "stdout",
     "output_type": "stream",
     "text": [
      "5\n"
     ]
    }
   ],
   "source": [
    "import heapq\n",
    "import numpy as np\n",
    "\n",
    "'''K-th largest element in an array\n",
    "'''\n",
    "def k_heap(nums, k):\n",
    "    minheap = []\n",
    "    for i in nums:\n",
    "        heapq.heappush(minheap, i); #push new element\n",
    "        # if heap becomes larger than k elements, pop it\n",
    "        if len(minheap)>k:\n",
    "            heapq.heappop(minheap);\n",
    "            \n",
    "    return heapq.heappop(minheap)\n",
    "arr = [3,2,1,5,6,4];\n",
    "print(k_heap(arr, 2))"
   ]
  },
  {
   "cell_type": "markdown",
   "metadata": {},
   "source": [
    "* Find k-th largest element in a stream of integers\n",
    "  - Make a heap with the stream\n",
    "  - Push to the stream with each new element\n",
    "  - if len(heap) exceeds k, pop elements till you get to len = k\n",
    "  - return the top of the heap\n",
    "  \n",
    "  [Leet code link](https://leetcode.com/problems/kth-largest-element-in-a-stream/submissions/)"
   ]
  },
  {
   "cell_type": "code",
   "execution_count": 8,
   "metadata": {},
   "outputs": [],
   "source": [
    "class KthLargest:\n",
    "\n",
    "    def __init__(self, k, nums):\n",
    "        super(KthLargest, self).__init__\n",
    "        self.k = k;\n",
    "        self.nums = nums;\n",
    "        heapq.heapify(self.nums)\n",
    "        \n",
    "    def add(self, val: int) -> int:\n",
    "        \n",
    "        heapq.heappush(self.nums,val);\n",
    "        # print(self.nums)\n",
    "        \n",
    "        while(len(self.nums)>self.k):\n",
    "            heapq.heappop(self.nums);\n",
    "        return self.nums[0]"
   ]
  },
  {
   "cell_type": "markdown",
   "metadata": {},
   "source": [
    "* Find the median in a stream of integers:\n",
    "    - Very commonly asked problem\n",
    "    - Use two heaps to maintain a max-heap (where the smaller half of the elements are stored), and a min-heap (where larger half of elements are stored).\n",
    "    - Whenever a new element comes in, first put it in the max-heap, pop the max from the max-heap and push it in min-heap. Then pop the min-heap and push it in max-heap if there is a disbalance\n",
    "[Leet code link](https://leetcode.com/problems/find-median-from-data-stream/)"
   ]
  },
  {
   "cell_type": "code",
   "execution_count": 9,
   "metadata": {},
   "outputs": [],
   "source": [
    "import heapq\n",
    "class MedianFinder:\n",
    "\n",
    "    def __init__(self):\n",
    "        super(MedianFinder, self).__init__\n",
    "        self.minheap = []\n",
    "        self.maxheap = [];\n",
    "        \n",
    "\n",
    "    def addNum(self, num: int) -> None:\n",
    "        \n",
    "        # print('on top')\n",
    "        # print(self.maxheap)\n",
    "        heapq.heappush(self.maxheap, num);\n",
    "        heapq._heapify_max(self.maxheap);\n",
    "        # print(self.maxheap)\n",
    "        large = heapq._heappop_max(self.maxheap);\n",
    "        heapq.heappush(self.minheap, large)\n",
    "        \n",
    "        if len(self.minheap)>len(self.maxheap):\n",
    "            small = heapq.heappop(self.minheap)\n",
    "            heapq.heappush(self.maxheap, small);\n",
    "            heapq._heapify_max(self.maxheap);\n",
    "        \n",
    "        # print('on bottom')\n",
    "        # print(num);\n",
    "        # print(self.maxheap);\n",
    "        # print(self.minheap)\n",
    "        \n",
    "    def findMedian(self) -> float:\n",
    "        tot = len(self.minheap) + len(self.maxheap);\n",
    "        \n",
    "        if tot%2==1:\n",
    "            return self.maxheap[0]\n",
    "        \n",
    "        if len(self.minheap)==0:\n",
    "            return self.maxheap[0]\n",
    "        \n",
    "        return (self.minheap[0] + self.maxheap[0])/2\n",
    "        \n",
    "        \n",
    "\n",
    "\n",
    "# Your MedianFinder object will be instantiated and called as such:\n",
    "# obj = MedianFinder()\n",
    "# obj.addNum(num)\n",
    "# param_2 = obj.findMedian()"
   ]
  },
  {
   "cell_type": "markdown",
   "metadata": {},
   "source": [
    "* Find meeting times in meeting rooms:\n",
    "    - Use a minheap to store the end times for each meeting\n",
    "    - If the start time of current meeting is less than the minimum next end time, then pop and push, otherwise just push\n",
    "    - Length of the heap gives us an idea of how many rooms are needed\n",
    "    \n",
    "[Leet code link](https://leetcode.com/problems/meeting-rooms-ii/solution/)"
   ]
  },
  {
   "cell_type": "code",
   "execution_count": 2,
   "metadata": {},
   "outputs": [],
   "source": [
    "import heapq\n",
    "class Solution:\n",
    "    def minMeetingRooms(self, intervals) -> int:\n",
    "        sort_intervals = sorted(intervals);\n",
    "        \n",
    "        end_time = []; count=0;\n",
    "        heapq.heappush(end_time, sort_intervals[0][1])\n",
    "        for interval in sort_intervals[1:]:\n",
    "            if end_time[0]<=interval[0]: #room is free\n",
    "                heapq.heappop(end_time);\n",
    "                heapq.heappush(end_time,interval[1])\n",
    "            else:\n",
    "                heapq.heappush(end_time, interval[1])\n",
    "            \n",
    "        return len(end_time)"
   ]
  },
  {
   "cell_type": "code",
   "execution_count": null,
   "metadata": {},
   "outputs": [],
   "source": []
  },
  {
   "cell_type": "code",
   "execution_count": null,
   "metadata": {},
   "outputs": [],
   "source": []
  },
  {
   "cell_type": "code",
   "execution_count": null,
   "metadata": {},
   "outputs": [],
   "source": []
  },
  {
   "cell_type": "code",
   "execution_count": null,
   "metadata": {},
   "outputs": [],
   "source": []
  },
  {
   "cell_type": "code",
   "execution_count": null,
   "metadata": {},
   "outputs": [],
   "source": []
  }
 ],
 "metadata": {
  "kernelspec": {
   "display_name": "Python 3",
   "language": "python",
   "name": "python3"
  },
  "language_info": {
   "codemirror_mode": {
    "name": "ipython",
    "version": 3
   },
   "file_extension": ".py",
   "mimetype": "text/x-python",
   "name": "python",
   "nbconvert_exporter": "python",
   "pygments_lexer": "ipython3",
   "version": "3.7.3"
  }
 },
 "nbformat": 4,
 "nbformat_minor": 2
}
