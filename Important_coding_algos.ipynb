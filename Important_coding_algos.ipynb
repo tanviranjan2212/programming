{
 "cells": [
  {
   "cell_type": "markdown",
   "metadata": {},
   "source": [
    "## Important coding algos for interview\n",
    "\n",
    "Starting this list on Oct 2, 2021. Consists of a few things:\n",
    "* important algorithms that one should know before a coding interview\n",
    "* important questions/concepts from LeetCode"
   ]
  },
  {
   "cell_type": "markdown",
   "metadata": {},
   "source": [
    "#### Algorithms\n",
    "* Array based: binary search, bubble sort, merge sort, quick sort, heap sort\n",
    "* Graph based: BFS, DFS"
   ]
  },
  {
   "cell_type": "code",
   "execution_count": 1,
   "metadata": {},
   "outputs": [],
   "source": [
    "import numpy as np\n",
    "import random"
   ]
  },
  {
   "cell_type": "markdown",
   "metadata": {},
   "source": [
    "###### Binary search"
   ]
  },
  {
   "cell_type": "code",
   "execution_count": 44,
   "metadata": {},
   "outputs": [
    {
     "name": "stdout",
     "output_type": "stream",
     "text": [
      "not found\n"
     ]
    }
   ],
   "source": [
    "arr = random.sample(range(1,100),50);\n",
    "arr = np.sort(arr);\n",
    "key=68;\n",
    "\n",
    "isfound=0;\n",
    "curr_arr = arr;\n",
    "mid = round(len(curr_arr)/2); first = 0; last = len(arr)-1\n",
    "while(isfound==0 and (last<len(arr) and first>=0 and first<last)):\n",
    "    mid = int((first+last)/2); #print(mid)\n",
    "    if curr_arr[mid]==key:\n",
    "        isfound=1; \n",
    "        break;\n",
    "    elif arr[mid]<key:\n",
    "        first=mid+1;\n",
    "    else:\n",
    "        last=mid-1;\n",
    "    \n",
    "if isfound==0:\n",
    "    print(\"not found\")\n",
    "else:\n",
    "    print(f\"found at {mid}\"); print(arr[mid])"
   ]
  },
  {
   "cell_type": "markdown",
   "metadata": {},
   "source": [
    "##### Merge Sort"
   ]
  },
  {
   "cell_type": "code",
   "execution_count": 47,
   "metadata": {},
   "outputs": [
    {
     "name": "stdout",
     "output_type": "stream",
     "text": [
      "[17, 20, 26, 31, 44, 54, 55, 77, 93]\n"
     ]
    }
   ],
   "source": [
    "def mergeSort(arr):\n",
    "    #code here\n",
    "    if len(arr)>1:\n",
    "        m = len(arr)//2;\n",
    "\n",
    "        left_arr, right_arr = arr[:m], arr[m:]\n",
    "        mergeSort(left_arr);\n",
    "        mergeSort(right_arr);\n",
    "\n",
    "        i,j,k=0,0,0,\n",
    "\n",
    "        while(i<len(left_arr) and j<len(right_arr)):\n",
    "            if left_arr[i]<right_arr[j]:\n",
    "                arr[k] = left_arr[i]\n",
    "                i+=1;\n",
    "            else:\n",
    "                arr[k] = right_arr[j];\n",
    "                j+=1;\n",
    "            k+=1;\n",
    "\n",
    "        while(i<len(left_arr)):\n",
    "            arr[k]=left_arr[i];\n",
    "            k+=1;\n",
    "            i+=1;\n",
    "        while(j<len(right_arr)):\n",
    "            arr[k]=right_arr[j];\n",
    "            j+=1;\n",
    "            k+=1;\n",
    "myList = [54,26,93,17,77,31,44,55,20]\n",
    "mergeSort(myList)\n",
    "print(myList)"
   ]
  },
  {
   "cell_type": "markdown",
   "metadata": {},
   "source": [
    "##### Graph search\n",
    "* BFS\n",
    "* DFS"
   ]
  },
  {
   "cell_type": "code",
   "execution_count": null,
   "metadata": {},
   "outputs": [],
   "source": []
  },
  {
   "cell_type": "code",
   "execution_count": null,
   "metadata": {},
   "outputs": [],
   "source": []
  },
  {
   "cell_type": "code",
   "execution_count": null,
   "metadata": {},
   "outputs": [],
   "source": []
  },
  {
   "cell_type": "markdown",
   "metadata": {},
   "source": [
    "#### Concepts/questions from LeetCode"
   ]
  },
  {
   "cell_type": "code",
   "execution_count": null,
   "metadata": {},
   "outputs": [],
   "source": []
  }
 ],
 "metadata": {
  "kernelspec": {
   "display_name": "Python 3",
   "language": "python",
   "name": "python3"
  },
  "language_info": {
   "codemirror_mode": {
    "name": "ipython",
    "version": 3
   },
   "file_extension": ".py",
   "mimetype": "text/x-python",
   "name": "python",
   "nbconvert_exporter": "python",
   "pygments_lexer": "ipython3",
   "version": "3.7.3"
  }
 },
 "nbformat": 4,
 "nbformat_minor": 2
}
