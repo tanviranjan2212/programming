{
 "cells": [
  {
   "cell_type": "markdown",
   "metadata": {},
   "source": [
    "#### Data Science techniques\n",
    "A collection of data science techniques for practicing for interviews. This notebook consists of the following:"
   ]
  },
  {
   "cell_type": "markdown",
   "metadata": {},
   "source": [
    "#### Trees\n",
    "* Classification tree\n",
    "* Regression tree\n",
    "* Random forest or bagging (parallel ensemble)\n",
    "* Boosting (sequential ensemble)\n",
    "* Bagging vs Boosting \n",
    "\n",
    "Start with [boosting](https://www.python-course.eu/Boosting.php)"
   ]
  },
  {
   "cell_type": "code",
   "execution_count": 78,
   "metadata": {},
   "outputs": [],
   "source": [
    "import numpy as np\n",
    "import pandas as pd\n",
    "import seaborn as sns\n",
    "from tqdm import tqdm\n",
    "import matplotlib.pyplot as plt\n",
    "from sklearn.preprocessing import LabelEncoder\n",
    "from sklearn.tree import DecisionTreeClassifier\n",
    "from sklearn.model_selection import cross_validate"
   ]
  },
  {
   "cell_type": "code",
   "execution_count": 79,
   "metadata": {},
   "outputs": [
    {
     "data": {
      "text/html": [
       "<div>\n",
       "<style scoped>\n",
       "    .dataframe tbody tr th:only-of-type {\n",
       "        vertical-align: middle;\n",
       "    }\n",
       "\n",
       "    .dataframe tbody tr th {\n",
       "        vertical-align: top;\n",
       "    }\n",
       "\n",
       "    .dataframe thead th {\n",
       "        text-align: right;\n",
       "    }\n",
       "</style>\n",
       "<table border=\"1\" class=\"dataframe\">\n",
       "  <thead>\n",
       "    <tr style=\"text-align: right;\">\n",
       "      <th></th>\n",
       "      <th>target</th>\n",
       "      <th>cap-shape</th>\n",
       "      <th>cap-surface</th>\n",
       "      <th>cap-color</th>\n",
       "      <th>bruises</th>\n",
       "      <th>odor</th>\n",
       "      <th>gill-attachment</th>\n",
       "      <th>gill-spacing</th>\n",
       "      <th>gill-size</th>\n",
       "      <th>gill-color</th>\n",
       "      <th>...</th>\n",
       "      <th>stalk-surface-below-ring</th>\n",
       "      <th>stalk-color-above-ring</th>\n",
       "      <th>stalk-color-below-ring</th>\n",
       "      <th>veil-type</th>\n",
       "      <th>veil-color</th>\n",
       "      <th>ring-number</th>\n",
       "      <th>ring-type</th>\n",
       "      <th>spore-print-color</th>\n",
       "      <th>population</th>\n",
       "      <th>habitat</th>\n",
       "    </tr>\n",
       "  </thead>\n",
       "  <tbody>\n",
       "    <tr>\n",
       "      <th>0</th>\n",
       "      <td>0</td>\n",
       "      <td>2</td>\n",
       "      <td>0</td>\n",
       "      <td>2</td>\n",
       "      <td>0</td>\n",
       "      <td>6</td>\n",
       "      <td>2</td>\n",
       "      <td>1</td>\n",
       "      <td>1</td>\n",
       "      <td>3</td>\n",
       "      <td>...</td>\n",
       "      <td>3</td>\n",
       "      <td>7</td>\n",
       "      <td>7</td>\n",
       "      <td>1</td>\n",
       "      <td>2</td>\n",
       "      <td>2</td>\n",
       "      <td>5</td>\n",
       "      <td>6</td>\n",
       "      <td>3</td>\n",
       "      <td>2</td>\n",
       "    </tr>\n",
       "    <tr>\n",
       "      <th>1</th>\n",
       "      <td>2</td>\n",
       "      <td>6</td>\n",
       "      <td>3</td>\n",
       "      <td>5</td>\n",
       "      <td>2</td>\n",
       "      <td>7</td>\n",
       "      <td>1</td>\n",
       "      <td>0</td>\n",
       "      <td>2</td>\n",
       "      <td>5</td>\n",
       "      <td>...</td>\n",
       "      <td>2</td>\n",
       "      <td>8</td>\n",
       "      <td>8</td>\n",
       "      <td>0</td>\n",
       "      <td>3</td>\n",
       "      <td>1</td>\n",
       "      <td>4</td>\n",
       "      <td>2</td>\n",
       "      <td>4</td>\n",
       "      <td>6</td>\n",
       "    </tr>\n",
       "    <tr>\n",
       "      <th>2</th>\n",
       "      <td>1</td>\n",
       "      <td>6</td>\n",
       "      <td>3</td>\n",
       "      <td>10</td>\n",
       "      <td>2</td>\n",
       "      <td>0</td>\n",
       "      <td>1</td>\n",
       "      <td>0</td>\n",
       "      <td>0</td>\n",
       "      <td>5</td>\n",
       "      <td>...</td>\n",
       "      <td>2</td>\n",
       "      <td>8</td>\n",
       "      <td>8</td>\n",
       "      <td>0</td>\n",
       "      <td>3</td>\n",
       "      <td>1</td>\n",
       "      <td>4</td>\n",
       "      <td>3</td>\n",
       "      <td>2</td>\n",
       "      <td>1</td>\n",
       "    </tr>\n",
       "    <tr>\n",
       "      <th>3</th>\n",
       "      <td>1</td>\n",
       "      <td>0</td>\n",
       "      <td>3</td>\n",
       "      <td>9</td>\n",
       "      <td>2</td>\n",
       "      <td>3</td>\n",
       "      <td>1</td>\n",
       "      <td>0</td>\n",
       "      <td>0</td>\n",
       "      <td>6</td>\n",
       "      <td>...</td>\n",
       "      <td>2</td>\n",
       "      <td>8</td>\n",
       "      <td>8</td>\n",
       "      <td>0</td>\n",
       "      <td>3</td>\n",
       "      <td>1</td>\n",
       "      <td>4</td>\n",
       "      <td>3</td>\n",
       "      <td>2</td>\n",
       "      <td>4</td>\n",
       "    </tr>\n",
       "    <tr>\n",
       "      <th>4</th>\n",
       "      <td>2</td>\n",
       "      <td>6</td>\n",
       "      <td>4</td>\n",
       "      <td>9</td>\n",
       "      <td>2</td>\n",
       "      <td>7</td>\n",
       "      <td>1</td>\n",
       "      <td>0</td>\n",
       "      <td>2</td>\n",
       "      <td>6</td>\n",
       "      <td>...</td>\n",
       "      <td>2</td>\n",
       "      <td>8</td>\n",
       "      <td>8</td>\n",
       "      <td>0</td>\n",
       "      <td>3</td>\n",
       "      <td>1</td>\n",
       "      <td>4</td>\n",
       "      <td>2</td>\n",
       "      <td>4</td>\n",
       "      <td>6</td>\n",
       "    </tr>\n",
       "  </tbody>\n",
       "</table>\n",
       "<p>5 rows × 23 columns</p>\n",
       "</div>"
      ],
      "text/plain": [
       "   target  cap-shape  cap-surface  cap-color  bruises  odor  gill-attachment  \\\n",
       "0       0          2            0          2        0     6                2   \n",
       "1       2          6            3          5        2     7                1   \n",
       "2       1          6            3         10        2     0                1   \n",
       "3       1          0            3          9        2     3                1   \n",
       "4       2          6            4          9        2     7                1   \n",
       "\n",
       "   gill-spacing  gill-size  gill-color  ...  stalk-surface-below-ring  \\\n",
       "0             1          1           3  ...                         3   \n",
       "1             0          2           5  ...                         2   \n",
       "2             0          0           5  ...                         2   \n",
       "3             0          0           6  ...                         2   \n",
       "4             0          2           6  ...                         2   \n",
       "\n",
       "   stalk-color-above-ring  stalk-color-below-ring  veil-type  veil-color  \\\n",
       "0                       7                       7          1           2   \n",
       "1                       8                       8          0           3   \n",
       "2                       8                       8          0           3   \n",
       "3                       8                       8          0           3   \n",
       "4                       8                       8          0           3   \n",
       "\n",
       "   ring-number  ring-type  spore-print-color  population  habitat  \n",
       "0            2          5                  6           3        2  \n",
       "1            1          4                  2           4        6  \n",
       "2            1          4                  3           2        1  \n",
       "3            1          4                  3           2        4  \n",
       "4            1          4                  2           4        6  \n",
       "\n",
       "[5 rows x 23 columns]"
      ]
     },
     "execution_count": 79,
     "metadata": {},
     "output_type": "execute_result"
    }
   ],
   "source": [
    "'''Before Boosting: \n",
    "1. Encode letters in each column to a numeric value\n",
    "2. Get baseline accuracy with a simple classification tree, with max_depth=1\n",
    "'''\n",
    "dataset = pd.read_csv('data/mushrooms.csv',header=None);\n",
    "colnames = ['target','cap-shape','cap-surface','cap-color','bruises','odor','gill-attachment','gill-spacing',\n",
    "             'gill-size','gill-color','stalk-shape','stalk-root','stalk-surface-above-ring','stalk-surface-below-ring','stalk-color-above-ring',\n",
    "             'stalk-color-below-ring','veil-type','veil-color','ring-number','ring-type','spore-print-color','population',\n",
    "             'habitat']\n",
    "for col in dataset.columns:\n",
    "    dataset[col] = LabelEncoder().fit(dataset[col]).transform(dataset[col]);\n",
    "dataset.columns = colnames; \n",
    "dataset.head()"
   ]
  },
  {
   "cell_type": "code",
   "execution_count": 80,
   "metadata": {},
   "outputs": [
    {
     "name": "stdout",
     "output_type": "stream",
     "text": [
      "CV accuracy with 1 depth tree: 73.12%\n"
     ]
    }
   ],
   "source": [
    "tree = DecisionTreeClassifier(criterion='entropy', max_depth=1);\n",
    "X=dataset.drop(['target'],axis=1);\n",
    "y=dataset['target'].where(dataset['target']==1,-1)\n",
    "test_acc = np.mean(cross_validate(tree, X, y, cv=100)['test_score']); \n",
    "print(f'CV accuracy with 1 depth tree: {test_acc*100:0.2f}%')"
   ]
  },
  {
   "cell_type": "code",
   "execution_count": 81,
   "metadata": {},
   "outputs": [],
   "source": [
    "class Boosting:\n",
    "    def __init__(self,dataset, T, test_dataset):\n",
    "        self.dataset = dataset;\n",
    "        self.T=T;\n",
    "        self.test_dataset = test_dataset;\n",
    "        self.alphas=None;\n",
    "        self.models=None;\n",
    "        self.accuracy = [];\n",
    "        self.predictions=None;\n",
    "    \n",
    "    def fit(self):\n",
    "        X=dataset.drop(['target'],axis=1)\n",
    "        y=dataset['target'].where(dataset['target']==1,-1)\n",
    "        \n",
    "        evaluation = pd.DataFrame(y.copy());\n",
    "        evaluation['weights']=1/len(self.dataset);\n",
    "        \n",
    "        alphas = []; models=[];\n",
    "        for t in range(self.T):\n",
    "            tree = DecisionTreeClassifier(criterion='entropy', max_depth=1);\n",
    "#             print(evaluation)\n",
    "            model = tree.fit(X,y,sample_weight=np.array(evaluation['weights']));\n",
    "            models.append(model);\n",
    "            \n",
    "            evaluation['predictions'] = model.predict(X);\n",
    "            evaluation['misclassified'] = np.where(evaluation['predictions'] != y,1,0);\n",
    "            \n",
    "            err = np.sum(evaluation['weights']*evaluation['misclassified'])/np.sum(evaluation['weights'])\n",
    "            \n",
    "            alpha = np.log((1-err)/err);\n",
    "            alphas.append(alpha);\n",
    "            \n",
    "            evaluation['weights'] *= np.exp(alpha*evaluation['misclassified']);\n",
    "#             print(evaluation['weights'])\n",
    "        self.alphas = alphas;\n",
    "        self.models = models;\n",
    "        \n",
    "    def predict(self):\n",
    "        X_test = self.test_dataset.drop('target',axis=1)\n",
    "        y_test = self.test_dataset['target'].where(self.test_dataset['target']==1,-1)\n",
    "        \n",
    "        accuracy, predictions = [],[];\n",
    "        \n",
    "        for alpha, model in zip(self.alphas, self.models):\n",
    "            pred = alpha*model.predict(X_test);\n",
    "            predictions.append(pred);\n",
    "#             pred = np.sum(np.sign(np.sum(np.array(pred),axis=0) == y_test.values)/len(predictions[0]))\n",
    "#             self.accuracy.append(pred)\n",
    "            self.accuracy.append(np.sum(np.sign(np.sum(np.array(predictions),axis=0))==y_test.values)/len(predictions[0]))\n",
    "            \n",
    "            self.predictions = np.sign(np.sum(np.array(predictions),axis=0))\n"
   ]
  },
  {
   "cell_type": "code",
   "execution_count": 82,
   "metadata": {},
   "outputs": [
    {
     "name": "stderr",
     "output_type": "stream",
     "text": [
      "100%|██████████| 50/50 [00:11<00:00,  2.15it/s]\n"
     ]
    },
    {
     "data": {
      "image/png": "[encoded data removed]",
      "text/plain": [
       "<Figure size 360x360 with 1 Axes>"
      ]
     },
     "metadata": {
      "needs_background": "light"
     },
     "output_type": "display_data"
    }
   ],
   "source": [
    "number_of_base_learners = 50\n",
    "\n",
    "fig,ax = plt.subplots(figsize=(5,5))\n",
    "for i in tqdm(range(number_of_base_learners)):\n",
    "    model = Boosting(dataset,i,dataset)\n",
    "    model.fit()\n",
    "    model.predict()\n",
    "\n",
    "ax.plot(model.accuracy,'-b'); ax.set_xlabel('Number of learners'); \n",
    "ax.set_ylabel('Accuracy'); sns.despine();\n",
    "plt.show()"
   ]
  },
  {
   "cell_type": "markdown",
   "metadata": {},
   "source": [
    "So in essence, boosting fits a tree to all samples where the \"importance\" of a particular sample is decided by the classification error in the last iteration AND whether or not that particular sample was misclassified. So, even though this method is similar to the Random Forest approach in that it builds and ensemble of models, it is different since every $n^{th}$ model is an improvement over the previous $(n-1)^{th}$ model.\n",
    "\n",
    "Now that I have coded it from scratch, it's time to use sklearn's toolkit"
   ]
  },
  {
   "cell_type": "code",
   "execution_count": 83,
   "metadata": {},
   "outputs": [],
   "source": [
    "from sklearn.ensemble import AdaBoostClassifier"
   ]
  },
  {
   "cell_type": "code",
   "execution_count": 84,
   "metadata": {},
   "outputs": [
    {
     "name": "stdout",
     "output_type": "stream",
     "text": [
      "Accuracy from AdaBoost sklearn: 99.85\n"
     ]
    }
   ],
   "source": [
    "ada = AdaBoostClassifier(n_estimators=50,learning_rate=1,algorithm='SAMME');\n",
    "ada.fit(X,y);\n",
    "prediction = ada.score(X,y);\n",
    "print(f'Accuracy from AdaBoost sklearn: {prediction*100:0.2f}')"
   ]
  },
  {
   "cell_type": "markdown",
   "metadata": {},
   "source": [
    "#### Random forest classifier [(Bagging)](https://www.python-course.eu/Random_Forests.php)\n",
    "This is a mixture of two processes:\n",
    "* Bootstrapped data\n",
    "    - The samples are bootstrapped to build separate trees\n",
    "* Aggregation\n",
    "    - Each bootstrapped dataset is fit with a sub-sampled set of features. This subsampling helps us get rid of very strong correlated features"
   ]
  },
  {
   "cell_type": "code",
   "execution_count": 85,
   "metadata": {},
   "outputs": [
    {
     "name": "stdout",
     "output_type": "stream",
     "text": [
      "Random forest accuracy: 91.62\n"
     ]
    }
   ],
   "source": [
    "from sklearn.ensemble import RandomForestClassifier\n",
    "random_forest = RandomForestClassifier(n_estimators=50,criterion='entropy',max_depth=1);\n",
    "\n",
    "rf_score = random_forest.fit(X,y).score(X,y); \n",
    "print(f'Random forest accuracy: {rf_score*100:0.2f}')"
   ]
  },
  {
   "cell_type": "markdown",
   "metadata": {},
   "source": [
    "#### When to use Bagging vs Boosting?\n",
    "\n",
    "Bagging and Boosting are both ensemble methods, i.e., they both make multiple trees and the aggregated results from all models are used to make predictions.\n",
    "\n",
    "Boosting is typically useful to get high performance but it might lead to over-fitting. Bagging, on the other hand, might not necessarily improve training performance by much but helps avoid over-fitting.\n",
    "\n",
    "A very intuitive visualization is shown [on this page](https://quantdare.com/what-is-the-difference-between-bagging-and-boosting/)"
   ]
  },
  {
   "cell_type": "code",
   "execution_count": null,
   "metadata": {},
   "outputs": [],
   "source": []
  },
  {
   "cell_type": "code",
   "execution_count": null,
   "metadata": {},
   "outputs": [],
   "source": []
  }
 ],
 "metadata": {
  "kernelspec": {
   "display_name": "Python 3",
   "language": "python",
   "name": "python3"
  },
  "language_info": {
   "codemirror_mode": {
    "name": "ipython",
    "version": 3
   },
   "file_extension": ".py",
   "mimetype": "text/x-python",
   "name": "python",
   "nbconvert_exporter": "python",
   "pygments_lexer": "ipython3",
   "version": "3.7.3"
  }
 },
 "nbformat": 4,
 "nbformat_minor": 2
}
