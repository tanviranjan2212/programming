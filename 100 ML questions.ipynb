{
 "cells": [
  {
   "cell_type": "markdown",
   "metadata": {},
   "source": [
    "## A major collection of Data Science questions from several Medium posts\n",
    "\n",
    "#### [Post 1](https://medium.com/@terenceshin/120-data-scientist-interview-questions-and-answers-you-should-know-in-2021-b2faf7de8f3e)"
   ]
  },
  {
   "cell_type": "markdown",
   "metadata": {},
   "source": [
    "1. What are the assumptions required for linear regression? What if some of these assumptions are violated?\n",
    "\n",
    "4 assumptions, \n",
    "* linear relation b/w x,y\n",
    "* for any fixed value of x, y is normally distributed\n",
    "* observations are independent\n",
    "* for any value of x, the variance of the residual is the same\n",
    "\n",
    "Extreme violations will make results wrong, small violations will result in greater bias or greater variance\n",
    "\n",
    "2. What is collinearity? What is multicollinearity? How do you deal with it?\n",
    "\n",
    "Collinearity: Predictors are not independent of each other. For observations, we can do PCA to identify independent dimensions\n",
    "\n",
    "Blog ans: Use Variance Inflation Factor (VIF) to determine if there is collinearity between observations. As a benchmark, VIF>5 => collinearity\n",
    "\n",
    "From Wikipedia, $VIF = \\frac{1}{1-R_j^2}$ where $R_j$ is the $R^2$ of regressing one predictor $X_j$ onto the other predictors $X_{-j}$. Higher $R_j^2$ suggests higher VIF\n",
    "\n",
    "3. Why is Naive Bayes “naive”?\n",
    "It assumes that features are independent of one another, which is not always the case\n",
    "\n",
    "4. What are random forests? When is Naive Bayes better?\n",
    "Random Forest consists of making many decision trees by first bootstrapping the data and then selecting a subset of features"
   ]
  },
  {
   "cell_type": "markdown",
   "metadata": {},
   "source": [
    "### Probability and statistics questions"
   ]
  },
  {
   "cell_type": "markdown",
   "metadata": {},
   "source": [
    "1. You are at a Casino and have two dices to play with. You win 10dollar every time you roll a five. If you play till you win and then stop, what is the expected payout?\n",
    "\n",
    "Probability of you winning a chance is $\\frac{4}{36} = \\frac{1}{9}$. That means you'll win once in 9 chances. Let's say it costs $C$ dollars for every play, so you pay $9 \\times C$, and you only win 10dollars at the end. Expected payout = $9C - 10$, so it must cost very little (~1dollar) for the game to be fun to anyone\n",
    "\n",
    "2. Give me 3 types of statistical biases and explain each of them with an example.\n",
    "* Selection bias: \n",
    "* Confirmation bias:\n",
    "* Survivorship bias: ??\n",
    "\n",
    "3. Explain what a long-tailed distribution is and provide three examples of relevant phenomena that have long tails. Why are they important in classification and regression problems?\n",
    "\n",
    "A distribution of some quantity which can take large values but with low probability.\n",
    "\n",
    "**Need to look this up. Answer on blog post not satisfying**\n",
    "\n",
    "4. How can you generate a random number between 1–7 with only a die?\n",
    "If you roll a die twice and consider the event of two rolls, there are 36 different outcomes. If we exclude the combination (6,6), there will be 35 possible outcomes. You can then assign 5 combinations to each number from 1 to 7\n",
    "\n",
    "5. If there are 8 marbles of equal weight and 1 marble that weighs a little bit more (for a total of 9 marbles), how many weighings are required to determine which marble is the heaviest?\n",
    "\n",
    "Divide into 3 piles of 3 marbles each. Weigh two groups of 3.\n",
    "* If equal, repeat with the unweighed group by dividing into 3 groups\n",
    "* If unequal, repeat with the heavier group\n",
    "\n",
    "\n",
    "6. Infection rates at a hospital above a 1 infection per 100 person-days at risk are considered high. A hospital had 10 infections over the last 1787 person-days at risk. Give the p-value of the correct one-sided test of whether the hospital is below the standard.\n",
    "\n",
    "It's a count => so poisson distribution. With rate of 1/100, probability of 10 = poisson pdf (1/100*1787), p-val = 0.03 => so not high\n",
    "\n",
    "7. You roll a biased coin (p(head)=0.8) five times. What’s the probability of getting three or more heads?\n",
    "\n",
    "Bin(n=5,p=0.8), calculate probability for k=3, 4, 5\n",
    "\n",
    "8. Consider the number of people that show up at a bus station is Poisson with a mean of 2.5/h. What is the probability that at most three people show up in a four hour period?\n",
    "\n",
    "Poisson prob for k=0, 1, 2, 3\n",
    "\n",
    "$\\sum_{k=0}^{3} e^{\\lambda k} \\frac{\\lambda^k}{k!}$\n",
    "\n",
    "9. You are running for office and your pollster polled hundred people. Sixty of them claimed they will vote for you. Can you relax?\n",
    "\n",
    "With p=0.6, STD = $\\sqrt{Np(1-p)} = 5$, $95% confidence interval = [60-2*5, 60+2*5]$\n",
    "Just barely\n",
    "\n",
    "10. Geiger counter records 100 radioactive decays in 5 minutes. Find an approximate 95% interval for the number of decays per hour.\n",
    "\n",
    "It's a poisson process, decay rate = $\\lambda$ = 100/5 x 60 per hour = 1200/hr\n",
    "$STD = \\sqrt(variance) = \\sqrt(\\lambda) = 35$\n",
    "\n",
    "So, 95CI are 2xSTD = [1200-70, 1200+70]\n",
    "\n",
    "\n"
   ]
  },
  {
   "cell_type": "code",
   "execution_count": null,
   "metadata": {},
   "outputs": [],
   "source": []
  }
 ],
 "metadata": {
  "kernelspec": {
   "display_name": "Python 3",
   "language": "python",
   "name": "python3"
  },
  "language_info": {
   "codemirror_mode": {
    "name": "ipython",
    "version": 3
   },
   "file_extension": ".py",
   "mimetype": "text/x-python",
   "name": "python",
   "nbconvert_exporter": "python",
   "pygments_lexer": "ipython3",
   "version": "3.7.3"
  }
 },
 "nbformat": 4,
 "nbformat_minor": 2
}
